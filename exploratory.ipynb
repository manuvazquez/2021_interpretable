{
 "cells": [
  {
   "cell_type": "code",
   "execution_count": 16,
   "metadata": {},
   "outputs": [],
   "source": [
    "import pathlib\n",
    "from typing import Dict, List, Union\n",
    "\n",
    "import matplotlib.pylab as plt\n",
    "from bokeh.plotting import figure, output_notebook, show\n",
    "\n",
    "from PIL import Image\n",
    "from ipywidgets import interact, interactive, fixed, IntSlider, Dropdown\n",
    "\n",
    "from scheeg import data"
   ]
  },
  {
   "cell_type": "markdown",
   "metadata": {},
   "source": [
    "# Data\n",
    "\n",
    "> Data processing/pre-processing functionality"
   ]
  },
  {
   "cell_type": "markdown",
   "metadata": {},
   "source": [
    "The path to the MATLAB data file is assembled"
   ]
  },
  {
   "cell_type": "code",
   "execution_count": 17,
   "metadata": {},
   "outputs": [
    {
     "data": {
      "text/plain": [
       "PosixPath('/home/manu/papers/frontiers_2020/github/preprocessed_data/CON_MAT.mat')"
      ]
     },
     "execution_count": 17,
     "metadata": {},
     "output_type": "execute_result"
    }
   ],
   "source": [
    "input_dir = pathlib.Path.cwd() / 'preprocessed_data'\n",
    "input_file = input_dir / 'CON_MAT.mat'\n",
    "assert input_file.exists()\n",
    "input_file"
   ]
  },
  {
   "cell_type": "markdown",
   "metadata": {},
   "source": [
    "*MATLAB* file is loaded"
   ]
  },
  {
   "cell_type": "code",
   "execution_count": 18,
   "metadata": {},
   "outputs": [
    {
     "name": "stdout",
     "output_type": "stream",
     "text": [
      "n_subjects=14, n_channels=19, n_frequency_bands=50, n_samples=23\n"
     ]
    }
   ],
   "source": [
    "metrics, (n_subjects, n_channels, _, n_frequency_bands, n_samples) = data.read_matlab(input_file)\n",
    "print(f'{n_subjects=}, {n_channels=}, {n_frequency_bands=}, {n_samples=}')"
   ]
  },
  {
   "cell_type": "markdown",
   "metadata": {},
   "source": [
    "Every array in the `metrics` dictionary has the same dimensions, given by"
   ]
  },
  {
   "cell_type": "code",
   "execution_count": 19,
   "metadata": {},
   "outputs": [
    {
     "data": {
      "text/plain": [
       "(14, 19, 19, 50, 23)"
      ]
     },
     "execution_count": 19,
     "metadata": {},
     "output_type": "execute_result"
    }
   ],
   "source": [
    "assert metrics['GPDC_H'].shape == metrics['GPDC_S'].shape == metrics['dDTF_H'].shape == metrics['dDTF_S'].shape\n",
    "metrics['GPDC_H'].shape"
   ]
  },
  {
   "cell_type": "markdown",
   "metadata": {},
   "source": [
    "*GDPC* is between $0$ and $1$"
   ]
  },
  {
   "cell_type": "code",
   "execution_count": 20,
   "metadata": {},
   "outputs": [
    {
     "data": {
      "text/plain": [
       "(0.0, 0.9941850304603577)"
      ]
     },
     "execution_count": 20,
     "metadata": {},
     "output_type": "execute_result"
    }
   ],
   "source": [
    "metrics['GPDC_H'].min(), metrics['GPDC_H'].max()"
   ]
  },
  {
   "cell_type": "markdown",
   "metadata": {},
   "source": [
    "and so is *dDTF*"
   ]
  },
  {
   "cell_type": "code",
   "execution_count": 21,
   "metadata": {},
   "outputs": [
    {
     "data": {
      "text/plain": [
       "(0.0, 0.6135406494140625)"
      ]
     },
     "execution_count": 21,
     "metadata": {},
     "output_type": "execute_result"
    }
   ],
   "source": [
    "metrics['dDTF_H'].min(), metrics['dDTF_H'].max()"
   ]
  },
  {
   "cell_type": "markdown",
   "metadata": {},
   "source": [
    "Diagonal of each sample (for each subject, sample...) is **always** $0$"
   ]
  },
  {
   "cell_type": "code",
   "execution_count": 22,
   "metadata": {},
   "outputs": [
    {
     "data": {
      "text/plain": [
       "(0.0, 0.0)"
      ]
     },
     "execution_count": 22,
     "metadata": {},
     "output_type": "execute_result"
    }
   ],
   "source": [
    "metrics['GPDC_H'].diagonal(axis1=1, axis2=2).sum(), metrics['dDTF_H'].diagonal(axis1=1, axis2=2).sum()"
   ]
  },
  {
   "cell_type": "markdown",
   "metadata": {},
   "source": [
    "Data can be visualized with *matplotlib*. Notice, however, that these are really one-channel images and hence not the nice-(pseudo)colored pictures shown."
   ]
  },
  {
   "cell_type": "code",
   "execution_count": 23,
   "metadata": {},
   "outputs": [
    {
     "data": {
      "application/vnd.jupyter.widget-view+json": {
       "model_id": "eb80dd7130a242c48042e3c607842c82",
       "version_major": 2,
       "version_minor": 0
      },
      "text/plain": [
       "interactive(children=(Dropdown(description='Kind', options=(('Healthy', '_H'), ('Ill', '_S')), value='_H'), In…"
      ]
     },
     "metadata": {},
     "output_type": "display_data"
    }
   ],
   "source": [
    "@interact(\n",
    "    healthy_or_ill=Dropdown(options=[('Healthy', '_H'), ('Ill', '_S')], value='_H', description='Kind'),\n",
    "    i_subject=IntSlider(description='# subject', min=0, max=n_subjects-1, value=0),\n",
    "    i_frequency=IntSlider(description='freq. band', min=0, max=n_frequency_bands-1, value=0),\n",
    "    i_sample=IntSlider(description='# sample', min=0, max=n_samples-1, value=0))\n",
    "def plot_sample(healthy_or_ill: str, i_subject:int = 0, i_frequency: int = 0, i_sample: int = 0):\n",
    "    \n",
    "    fig, (ax1, ax2) = plt.subplots(1, 2)\n",
    "    fig.set_size_inches(12,12)\n",
    "    \n",
    "    # GDPC\n",
    "    ax1.imshow(metrics['GPDC' + healthy_or_ill][i_subject, :, :, i_frequency, i_sample])\n",
    "    ax1.set_title('GDPC')\n",
    "    \n",
    "    # dDTF\n",
    "    ax2.imshow(metrics['dDTF' + healthy_or_ill][i_subject, :, :, i_frequency, i_sample])\n",
    "    ax2.set_title('dDTF')"
   ]
  },
  {
   "cell_type": "markdown",
   "metadata": {},
   "source": [
    "Let's collect the first sample of the first frequency for the first healthy and ill subjects."
   ]
  },
  {
   "cell_type": "code",
   "execution_count": 24,
   "metadata": {},
   "outputs": [],
   "source": [
    "sample_healthy = metrics['GPDC_H'][0, :, :, 0, 0]\n",
    "sample_ill = metrics['GPDC_S'][0, :, :, 0, 0]"
   ]
  },
  {
   "cell_type": "markdown",
   "metadata": {},
   "source": [
    "Using *pillow* one can turn the array into a grey-scale image."
   ]
  },
  {
   "cell_type": "code",
   "execution_count": 25,
   "metadata": {},
   "outputs": [
    {
     "data": {
      "image/png": "[encoded data removed]",
      "text/plain": [
       "<PIL.Image.Image image mode=L size=19x19 at 0x7FFB7E8BD8B0>"
      ]
     },
     "execution_count": 25,
     "metadata": {},
     "output_type": "execute_result"
    }
   ],
   "source": [
    "im = Image.fromarray(sample_healthy, mode='L')\n",
    "im"
   ]
  },
  {
   "cell_type": "markdown",
   "metadata": {},
   "source": [
    "## Merging frequency bands"
   ]
  },
  {
   "cell_type": "markdown",
   "metadata": {},
   "source": [
    "Every color channel (R,G,B) is obtained from some frequency bands"
   ]
  },
  {
   "cell_type": "code",
   "execution_count": 26,
   "metadata": {},
   "outputs": [],
   "source": [
    "rgb_from_freq = {\n",
    "    'R': range(12), # encompassing approximately delta, theta and alpha bands\n",
    "    'G': range(12,30), # encompassing approximately the beta band\n",
    "    'B': range(30,50) # encompassing approximately the gamma band\n",
    "}"
   ]
  },
  {
   "cell_type": "markdown",
   "metadata": {},
   "source": [
    "Data in each *range* is averaged. The results for <font color='red'>R</font>, <font color='green'>G</font>, and <font color='blue'>B</font> are stacked back together in a single array. Notice the dimension for the *color channel* in the latter is the 4th one. Also, the old *frequency dimension* is now gone."
   ]
  },
  {
   "cell_type": "code",
   "execution_count": 27,
   "metadata": {},
   "outputs": [],
   "source": [
    "rgb_data = {k: data.average_frequencies(metrics[k], rgb_from_freq.values()) for k in ['GPDC_H', 'GPDC_S']}"
   ]
  },
  {
   "cell_type": "markdown",
   "metadata": {},
   "source": [
    "The size of any of the resulting arrays is"
   ]
  },
  {
   "cell_type": "code",
   "execution_count": 28,
   "metadata": {},
   "outputs": [
    {
     "data": {
      "text/plain": [
       "(14, 19, 19, 3, 23)"
      ]
     },
     "execution_count": 28,
     "metadata": {},
     "output_type": "execute_result"
    }
   ],
   "source": [
    "next(iter(rgb_data.values())).shape"
   ]
  },
  {
   "cell_type": "markdown",
   "metadata": {},
   "source": [
    "## Arrays to images"
   ]
  },
  {
   "cell_type": "markdown",
   "metadata": {},
   "source": [
    "The numbers in the arrays (the metrics *GPDC* and *dDTF*) are between $0$ and $1$, but a color channel should be an **integer** number between $0$ and $255$. Hence, in order to turn the data values into colors we multiply by $255$ and cast the numbers as 8-bits integers."
   ]
  },
  {
   "cell_type": "code",
   "execution_count": 29,
   "metadata": {},
   "outputs": [],
   "source": [
    "scaled_rgb_data = {k: data.to_rgb(v) for k, v in rgb_data.items()}"
   ]
  },
  {
   "cell_type": "markdown",
   "metadata": {},
   "source": [
    "We can visualize the newly constructed images"
   ]
  },
  {
   "cell_type": "code",
   "execution_count": 30,
   "metadata": {},
   "outputs": [
    {
     "data": {
      "application/vnd.jupyter.widget-view+json": {
       "model_id": "5ea7855405e34ebebc0482d34d64704e",
       "version_major": 2,
       "version_minor": 0
      },
      "text/plain": [
       "interactive(children=(Dropdown(description='Kind', options=(('Healthy', '_H'), ('Ill', '_S')), value='_H'), In…"
      ]
     },
     "metadata": {},
     "output_type": "display_data"
    }
   ],
   "source": [
    "@interact(\n",
    "    healthy_or_ill=Dropdown(options=[('Healthy', '_H'), ('Ill', '_S')], value='_H', description='Kind'),\n",
    "    i_subject=IntSlider(description='# subject', min=0, max=n_subjects-1, value=0),\n",
    "    i_sample=IntSlider(description='# sample', min=0, max=n_samples-1, value=0))\n",
    "def plot_sample(healthy_or_ill: str, i_subject:int = 0, i_sample: int = 0):\n",
    "    \n",
    "    fig, ax = plt.subplots()\n",
    "    fig.set_size_inches(8,8)\n",
    "    \n",
    "    # GDPC\n",
    "    ax.imshow(scaled_rgb_data['GPDC' + healthy_or_ill][i_subject, ..., i_sample])\n",
    "    ax.set_title('GDPC')"
   ]
  }
 ],
 "metadata": {
  "kernelspec": {
   "display_name": "Python 3",
   "language": "python",
   "name": "python3"
  },
  "language_info": {
   "codemirror_mode": {
    "name": "ipython",
    "version": 3
   },
   "file_extension": ".py",
   "mimetype": "text/x-python",
   "name": "python",
   "nbconvert_exporter": "python",
   "pygments_lexer": "ipython3",
   "version": "3.9.4"
  }
 },
 "nbformat": 4,
 "nbformat_minor": 4
}
